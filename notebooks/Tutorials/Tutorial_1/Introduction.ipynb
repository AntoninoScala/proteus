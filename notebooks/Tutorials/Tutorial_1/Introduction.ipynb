{
 "cells": [
  {
   "cell_type": "markdown",
   "metadata": {
    "extensions": {
     "jupyter_dashboards": {
      "version": 1,
      "views": {
       "grid_default": {
        "hidden": true
       },
       "report_default": {
        "hidden": false
       }
      }
     }
    },
    "slideshow": {
     "slide_type": "slide"
    }
   },
   "source": [
    "\n",
    "The Proteus Toolkit![triton](http://proteustoolkit.org/_static/corps_logo_cross2.svg)\n",
    "=================\n",
    "\n",
    "This notebook is also a (live) slide presentation. To view it as a presentation, click on the button in the toolbar that looks like this: ![rise button](rise.png)\n",
    "\n",
    "Use the space bar to step through and shift-enter to execute code cells."
   ]
  },
  {
   "cell_type": "markdown",
   "metadata": {
    "extensions": {
     "jupyter_dashboards": {
      "version": 1,
      "views": {
       "grid_default": {
        "col": 0,
        "height": 4,
        "hidden": false,
        "row": 0,
        "width": 4
       },
       "report_default": {
        "hidden": false
       }
      }
     }
    },
    "slideshow": {
     "slide_type": "slide"
    }
   },
   "source": [
    "What is  Proteus?\n",
    "================="
   ]
  },
  {
   "cell_type": "markdown",
   "metadata": {
    "extensions": {
     "jupyter_dashboards": {
      "version": 1,
      "views": {
       "grid_default": {
        "col": 4,
        "height": 4,
        "hidden": false,
        "row": 0,
        "width": 4
       },
       "report_default": {
        "hidden": false
       }
      }
     }
    },
    "slideshow": {
     "slide_type": "slide"
    }
   },
   "source": [
    "A Python toolkit for solving equations"
   ]
  },
  {
   "cell_type": "markdown",
   "metadata": {
    "extensions": {
     "jupyter_dashboards": {
      "version": 1,
      "views": {
       "grid_default": {
        "col": 8,
        "height": 6,
        "hidden": false,
        "row": 0,
        "width": null
       },
       "report_default": {
        "hidden": false
       }
      }
     }
    },
    "slideshow": {
     "slide_type": "subslide"
    }
   },
   "source": [
    "Find $u:\\Omega \\rightarrow \\mathbb{R}$ satisfying\n",
    "$$\n",
    "\\nabla \\cdot (-a\\nabla u) + r(x) = 0\n",
    "$$\n",
    "on \n",
    "$$\n",
    "\\Omega = [0,1] \\times [0,1]\n",
    "$$\n",
    "subject to\n",
    "$$\n",
    "u|_{\\partial \\Omega} = 0\n",
    "$$"
   ]
  },
  {
   "cell_type": "markdown",
   "metadata": {
    "extensions": {
     "jupyter_dashboards": {
      "version": 1,
      "views": {
       "grid_default": {
        "col": 0,
        "height": 4,
        "hidden": false,
        "row": 4,
        "width": 4
       },
       "report_default": {
        "hidden": false
       }
      }
     }
    },
    "slideshow": {
     "slide_type": "subslide"
    }
   },
   "source": [
    "First, import some tools. \n",
    "\n",
    "Remember to click on the cell and hit shift-enter to execute code."
   ]
  },
  {
   "cell_type": "code",
   "execution_count": null,
   "metadata": {
    "extensions": {
     "jupyter_dashboards": {
      "version": 1,
      "views": {
       "grid_default": {
        "hidden": true
       },
       "report_default": {
        "hidden": true
       }
      }
     }
    },
    "slideshow": {
     "slide_type": "fragment"
    }
   },
   "outputs": [],
   "source": [
    "%matplotlib notebook\n",
    "import matplotlib.pyplot as plt\n",
    "import numpy as np\n",
    "from proteus.iproteus import *\n",
    "import proteus.default_p as physics \n",
    "import proteus.default_n as numerics \n",
    "from proteus.TransportCoefficients import PoissonEquationCoefficients"
   ]
  },
  {
   "cell_type": "markdown",
   "metadata": {
    "extensions": {
     "jupyter_dashboards": {
      "version": 1,
      "views": {
       "grid_default": {
        "col": 4,
        "height": 4,
        "hidden": false,
        "row": 4,
        "width": 4
       },
       "report_default": {
        "hidden": false
       }
      }
     }
    },
    "slideshow": {
     "slide_type": "subslide"
    }
   },
   "source": [
    "Define the equation"
   ]
  },
  {
   "cell_type": "code",
   "execution_count": null,
   "metadata": {
    "extensions": {
     "jupyter_dashboards": {
      "version": 1,
      "views": {
       "grid_default": {
        "hidden": true
       },
       "report_default": {
        "hidden": true
       }
      }
     }
    },
    "slideshow": {
     "slide_type": "fragment"
    }
   },
   "outputs": [],
   "source": [
    "def r(x):\n",
    "    return (-32.*np.pi*2*\n",
    "            np.sin(np.pi*2*x[...,0])*\n",
    "            np.sin(np.pi*2*x[...,1])*\n",
    "            np.cos(np.pi*2*x[...,0])*\n",
    "            np.cos(np.pi*2*x[...,1]))\n",
    "def a(x):\n",
    "    return np.array([[1.0,0.0],\n",
    "                     [0.0,1.0]])\n",
    "physics.coefficients = PoissonEquationCoefficients([a],[r]) \n",
    "physics.name=\"PoissonDots\""
   ]
  },
  {
   "cell_type": "markdown",
   "metadata": {
    "extensions": {
     "jupyter_dashboards": {
      "version": 1,
      "views": {
       "grid_default": {
        "col": 8,
        "height": 4,
        "hidden": false,
        "row": 6,
        "width": 4
       },
       "report_default": {
        "hidden": false
       }
      }
     }
    },
    "slideshow": {
     "slide_type": "subslide"
    }
   },
   "source": [
    "Define the domain and boundary conditions"
   ]
  },
  {
   "cell_type": "code",
   "execution_count": null,
   "metadata": {
    "extensions": {
     "jupyter_dashboards": {
      "version": 1,
      "views": {
       "grid_default": {
        "hidden": true
       },
       "report_default": {
        "hidden": true
       }
      }
     }
    },
    "slideshow": {
     "slide_type": "fragment"
    }
   },
   "outputs": [],
   "source": [
    "physics.nd = 2\n",
    "physics.domain =  Domain.RectangularDomain(L=[1.0,1.0],\n",
    "                                           x=[0.0,0.0])\n",
    "def getDBC(x,flag):\n",
    "    if flag in [physics.domain.boundaryTags['left'],\n",
    "                physics.domain.boundaryTags['top'],\n",
    "                physics.domain.boundaryTags['right'],\n",
    "                physics.domain.boundaryTags['bottom']]:\n",
    "        return lambda x,t: 0.0\n",
    "        \n",
    "physics.dirichletConditions = {0:getDBC}"
   ]
  },
  {
   "cell_type": "markdown",
   "metadata": {
    "extensions": {
     "jupyter_dashboards": {
      "version": 1,
      "views": {
       "grid_default": {
        "col": 0,
        "height": 4,
        "hidden": false,
        "row": 8,
        "width": 4
       },
       "report_default": {
        "hidden": false
       }
      }
     }
    },
    "slideshow": {
     "slide_type": "subslide"
    }
   },
   "source": [
    "Configure the numerics"
   ]
  },
  {
   "cell_type": "code",
   "execution_count": null,
   "metadata": {
    "extensions": {
     "jupyter_dashboards": {
      "version": 1,
      "views": {
       "grid_default": {
        "hidden": true
       },
       "report_default": {
        "hidden": true
       }
      }
     }
    },
    "slideshow": {
     "slide_type": "fragment"
    }
   },
   "outputs": [],
   "source": [
    "numerics=default_n\n",
    "numerics.femSpaces = {0:FemTools.P1}\n",
    "numerics.elementQuadrature = Quadrature.SimplexGaussQuadrature(physics.nd,3)\n",
    "numerics.elementBoundaryQuadrature = Quadrature.SimplexGaussQuadrature(physics.nd-1,3)\n",
    "numerics.nn = 41\n",
    "numerics.numericalFluxType = NumericalFlux.Diffusion_SIPG_exterior\n",
    "so = default_so\n",
    "so.name = physics.name\n",
    "so.sList=[default_s]\n",
    "so.tnList = [0,1]"
   ]
  },
  {
   "cell_type": "markdown",
   "metadata": {
    "extensions": {
     "jupyter_dashboards": {
      "version": 1,
      "views": {
       "grid_default": {
        "col": 4,
        "height": 4,
        "hidden": false,
        "row": 8,
        "width": 4
       },
       "report_default": {
        "hidden": false
       }
      }
     }
    },
    "slideshow": {
     "slide_type": "subslide"
    }
   },
   "source": [
    "Solve the problem"
   ]
  },
  {
   "cell_type": "code",
   "execution_count": null,
   "metadata": {
    "extensions": {
     "jupyter_dashboards": {
      "version": 1,
      "views": {
       "grid_default": {
        "hidden": true
       },
       "report_default": {
        "hidden": true
       }
      }
     }
    },
    "slideshow": {
     "slide_type": "fragment"
    }
   },
   "outputs": [],
   "source": [
    "ns = NumericalSolution.NS_base(so,[physics],[numerics],so.sList,opts)\n",
    "failed = ns.calculateSolution('run1')\n",
    "assert(not failed)"
   ]
  },
  {
   "cell_type": "markdown",
   "metadata": {
    "extensions": {
     "jupyter_dashboards": {
      "version": 1,
      "views": {
       "grid_default": {
        "col": 8,
        "height": 4,
        "hidden": false,
        "row": 10,
        "width": 4
       },
       "report_default": {
        "hidden": false
       }
      }
     }
    },
    "slideshow": {
     "slide_type": "slide"
    }
   },
   "source": [
    "Plot the solution"
   ]
  },
  {
   "cell_type": "code",
   "execution_count": null,
   "metadata": {
    "extensions": {
     "jupyter_dashboards": {
      "version": 1,
      "views": {
       "grid_default": {
        "col": 0,
        "height": 4,
        "hidden": false,
        "row": 12,
        "width": 4
       },
       "report_default": {
        "hidden": false
       }
      }
     }
    },
    "slideshow": {
     "slide_type": "fragment"
    }
   },
   "outputs": [],
   "source": [
    "model = ns.modelList[0].levelModelList[-1]\n",
    "plt.figure()\n",
    "plt.tricontourf(model.mesh.nodeArray[:,0],\n",
    "                model.mesh.nodeArray[:,1],\n",
    "                model.mesh.elementNodesArray,\n",
    "                model.u[0].dof)"
   ]
  },
  {
   "cell_type": "markdown",
   "metadata": {
    "extensions": {
     "jupyter_dashboards": {
      "version": 1,
      "views": {
       "grid_default": {
        "col": 4,
        "height": 4,
        "hidden": false,
        "row": 12,
        "width": 4
       },
       "report_default": {
        "hidden": false
       }
      }
     }
    },
    "slideshow": {
     "slide_type": "slide"
    }
   },
   "source": [
    "A Python toolkit for research on ***continuum models***. The next cell defines a new continuum model equations (a nonlinear Poisson equation)."
   ]
  },
  {
   "cell_type": "code",
   "execution_count": null,
   "metadata": {
    "extensions": {
     "jupyter_dashboards": {
      "version": 1,
      "views": {
       "grid_default": {
        "hidden": true
       },
       "report_default": {
        "hidden": true
       }
      }
     }
    },
    "slideshow": {
     "slide_type": "subslide"
    }
   },
   "outputs": [],
   "source": [
    "class NonlinearPoisson(TransportCoefficients.TC_base):\n",
    "    def __init__(self,A,rofx):\n",
    "        TransportCoefficients.TC_base.__init__(self, \n",
    "                         nc=1, \n",
    "                         variableNames=['u'],\n",
    "                         diffusion = {0:{0:{0:'constant'}}},\n",
    "                         potential = {0:{0:'nonlinear'}},\n",
    "                         reaction  = {0:{0:'constant'}})\n",
    "        self.A=A;\n",
    "        self.rofx=rofx\n",
    "    def evaluate(self,t,c):\n",
    "        c[('a',0,0)][...,0] = self.A[0][0]\n",
    "        c[('a',0,0)][...,3] = self.A[1][1]\n",
    "        c[('r',0)][:]       = self.rofx(c['x'][:])\n",
    "        c[('phi',0)][:]     = c[('u',0)]**2+10.0*c[('u',0)]\n",
    "        c[('dphi',0,0)][:]  = 2.0*c[('u',0)] + 10.0"
   ]
  },
  {
   "cell_type": "code",
   "execution_count": null,
   "metadata": {
    "extensions": {
     "jupyter_dashboards": {
      "version": 1,
      "views": {
       "grid_default": {
        "hidden": true
       },
       "report_default": {
        "hidden": true
       }
      }
     }
    },
    "slideshow": {
     "slide_type": "subslide"
    }
   },
   "outputs": [],
   "source": [
    "physics.coefficients = NonlinearPoisson([[1.0,0.0],[0.0,1.0]], r)\n",
    "numerics.tolFac=0.0\n",
    "numerics.nl_atol_res = 1.0e-8\n",
    "numerics.nn=21"
   ]
  },
  {
   "cell_type": "code",
   "execution_count": null,
   "metadata": {
    "extensions": {
     "jupyter_dashboards": {
      "version": 1,
      "views": {
       "grid_default": {
        "hidden": true
       },
       "report_default": {
        "hidden": true
       }
      }
     }
    },
    "slideshow": {
     "slide_type": "subslide"
    }
   },
   "outputs": [],
   "source": [
    "ns = NumericalSolution.NS_base(so,[physics],[numerics],so.sList,opts)\n",
    "failed = ns.calculateSolution('run2')\n",
    "assert(not failed)"
   ]
  },
  {
   "cell_type": "code",
   "execution_count": null,
   "metadata": {
    "extensions": {
     "jupyter_dashboards": {
      "version": 1,
      "views": {
       "grid_default": {
        "col": 8,
        "height": 4,
        "hidden": false,
        "row": 14,
        "width": 4
       },
       "report_default": {
        "hidden": false
       }
      }
     }
    },
    "slideshow": {
     "slide_type": "subslide"
    }
   },
   "outputs": [],
   "source": [
    "model = ns.modelList[0].levelModelList[-1]\n",
    "plt.figure()\n",
    "plt.tricontourf(model.mesh.nodeArray[:,0],\n",
    "                model.mesh.nodeArray[:,1],\n",
    "                model.mesh.elementNodesArray,\n",
    "                model.u[0].dof) "
   ]
  },
  {
   "cell_type": "markdown",
   "metadata": {
    "extensions": {
     "jupyter_dashboards": {
      "version": 1,
      "views": {
       "grid_default": {
        "col": 0,
        "height": 4,
        "hidden": false,
        "row": 16,
        "width": 4
       },
       "report_default": {
        "hidden": false
       }
      }
     }
    },
    "slideshow": {
     "slide_type": "slide"
    }
   },
   "source": [
    "A Python toolkit for research on ***numerical methods***. The next cell switches the discretation to a new finite element (P2, or continuous quadratics on triangles with the Lagrange basis)."
   ]
  },
  {
   "cell_type": "code",
   "execution_count": null,
   "metadata": {
    "extensions": {
     "jupyter_dashboards": {
      "version": 1,
      "views": {
       "grid_default": {
        "hidden": true
       },
       "report_default": {
        "hidden": true
       }
      }
     }
    },
    "slideshow": {
     "slide_type": "fragment"
    }
   },
   "outputs": [],
   "source": [
    "physics.coefficients = PoissonEquationCoefficients([a],[r]) \n",
    "numerics.femSpaces={0:FemTools.P2}\n",
    "ns = NumericalSolution.NS_base(so,[physics],[numerics],so.sList,opts)\n",
    "failed = ns.calculateSolution('run3')\n",
    "assert(not failed)"
   ]
  },
  {
   "cell_type": "code",
   "execution_count": null,
   "metadata": {
    "extensions": {
     "jupyter_dashboards": {
      "version": 1,
      "views": {
       "grid_default": {
        "col": 4,
        "height": 4,
        "hidden": false,
        "row": 16,
        "width": 4
       },
       "report_default": {
        "hidden": false
       }
      }
     }
    },
    "slideshow": {
     "slide_type": "slide"
    }
   },
   "outputs": [],
   "source": [
    "model = ns.modelList[0].levelModelList[-1]\n",
    "import matplotlib.tri as tri\n",
    "triang = tri.Triangulation(model.u[0].femSpace.dofMap.lagrangeNodesArray[:,0],\n",
    "                model.u[0].femSpace.dofMap.lagrangeNodesArray[:,1])\n",
    "\n",
    "plt.figure()\n",
    "plt.tricontourf(triang, model.u[0].dof)"
   ]
  },
  {
   "cell_type": "markdown",
   "metadata": {
    "extensions": {
     "jupyter_dashboards": {
      "version": 1,
      "views": {
       "grid_default": {
        "col": 0,
        "height": 6,
        "hidden": false,
        "row": 20,
        "width": 12
       },
       "report_default": {
        "hidden": false
       }
      }
     }
    },
    "slideshow": {
     "slide_type": "slide"
    }
   },
   "source": [
    "These examples were intented to be simple and general illustrations of the some of the main goals of the proteus project:\n",
    "\n",
    "- Enabling R&D on new continuum models (PDEs)\n",
    "- Enabling R&D on new numerical methods for existing models\n",
    "\n",
    "This notebook directory contains additional tutorials and examples.\n",
    "\n",
    "https://github.com/erdc/proteus"
   ]
  }
 ],
 "metadata": {
  "celltoolbar": "Slideshow",
  "extensions": {
   "jupyter_dashboards": {
    "activeView": "grid_default",
    "version": 1,
    "views": {
     "grid_default": {
      "cellMargin": 10,
      "defaultCellHeight": 20,
      "maxColumns": 12,
      "name": "grid",
      "type": "grid"
     },
     "report_default": {
      "name": "report",
      "type": "report"
     }
    }
   }
  },
  "kernelspec": {
   "display_name": "Python 3",
   "language": "python",
   "name": "python3"
  },
  "language_info": {
   "codemirror_mode": {
    "name": "ipython",
    "version": 3
   },
   "file_extension": ".py",
   "mimetype": "text/x-python",
   "name": "python",
   "nbconvert_exporter": "python",
   "pygments_lexer": "ipython3",
   "version": "3.7.2"
  }
 },
 "nbformat": 4,
 "nbformat_minor": 1
}
