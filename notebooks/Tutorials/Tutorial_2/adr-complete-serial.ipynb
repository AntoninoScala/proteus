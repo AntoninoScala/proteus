{
 "cells": [
  {
   "cell_type": "markdown",
   "metadata": {
    "slideshow": {
     "slide_type": "slide"
    }
   },
   "source": [
    "# Advection-Diffusion-Reaction Model\n",
    "\n",
    "This notebook demonstrates how to\n",
    "- Define the equation you want to solve\n",
    "- Setup up and initial-boundary value problem\n",
    "- Choose a particular set of numerics\n",
    "- Post-process the solution\n",
    "\n",
    "$\n",
    "\\newcommand{\\grad}{\\nabla}\n",
    "$"
   ]
  },
  {
   "cell_type": "code",
   "execution_count": 1,
   "metadata": {
    "slideshow": {
     "slide_type": "subslide"
    }
   },
   "outputs": [],
   "source": [
    "%matplotlib inline\n",
    "from proteus.iproteus import * \n",
    "Profiling.logLevel=7\n",
    "Profiling.verbose=False"
   ]
  },
  {
   "cell_type": "markdown",
   "metadata": {
    "slideshow": {
     "slide_type": "slide"
    }
   },
   "source": [
    "# Defining an equation\n",
    "The equation we want to solve is\n",
    "\\begin{equation*}\n",
    "m_t + \\nabla \\cdot \\left(\\mathbf{f} - \\mathbf{a} \\grad u \\right) + r = 0\n",
    "\\end{equation*}\n",
    "where $u$ is the unknown solution and the coefficients have the specific  forms\n",
    "\\begin{align}\n",
    "m(u) &= M u \\\\\n",
    "f(u) &= \\mathbf{B} u \\\\\n",
    "a(u) &= \\mathbf{A} \\\\\n",
    "r(u) &= C u \\\\\n",
    "\\end{align}"
   ]
  },
  {
   "cell_type": "markdown",
   "metadata": {
    "slideshow": {
     "slide_type": "fragment"
    }
   },
   "source": [
    "# Proteus template equation\n",
    "\\begin{equation}\n",
    "\\mathbf{u} = \\left[ u^0,u^1,\\ldots,u^{nc-1} \\right]\n",
    "\\end{equation}\n",
    "\\begin{equation*}\n",
    "m^i_t + \\nabla \\cdot \\left(\\mathbf{f}^i - \\sum_k^{nc-1} \\mathbf{a}^{i,k} \\nabla \\phi^k(\\mathbf{u}) \\right) + r^i + H^i(\\nabla u^i)= 0 \\qquad \\mbox{for } i=0,\\ldots,nc-1\n",
    "\\end{equation*}\n",
    "\n",
    "- $m$ is \"mass\"\n",
    "- $\\mathbf{f}$ is advection\n",
    "- $\\mathbf{a}$ is diffution\n",
    "- $\\phi$ is potential\n",
    "- $H$ is Hamiltonian\n",
    "- $r$ is reaction\n",
    "\n",
    "Example: non-conservative advection\n",
    "\\begin{equation}\n",
    "u_t + \\mathbf{v} \\cdot \\nabla u = 0\n",
    "\\end{equation}\n",
    "\n",
    "What is $m$?\n",
    "What is $f$?\n",
    "What is $H$?"
   ]
  },
  {
   "cell_type": "code",
   "execution_count": 2,
   "metadata": {
    "slideshow": {
     "slide_type": "slide"
    }
   },
   "outputs": [],
   "source": [
    "class LADR(TransportCoefficients.TC_base):\n",
    "    \"\"\"\n",
    "    The coefficients of the linear advection-diffusion equation\n",
    "    \"\"\"\n",
    "    def __init__(self,M,A,B,C):\n",
    "        TransportCoefficients.TC_base.__init__(self,\n",
    "                                               nc=1, #number of components\n",
    "                                               variableNames=['u'],\n",
    "                                               mass      = {0:{0:'linear'}},\n",
    "                                               advection = {0:{0:'linear'}},\n",
    "                                               diffusion = {0:{0:{0:'constant'}}},\n",
    "                                               potential = {0:{0:'u'}},\n",
    "                                               reaction  = {0:{0:'linear'}})\n",
    "                                            \n",
    "        self.M=M;\n",
    "        self.A=A;\n",
    "        self.B=B;\n",
    "        self.C=C;\n",
    "    def evaluate(self,t,c):\n",
    "        c[('m',0)][:]         = self.M*c[('u',0)]  \n",
    "        c[('dm',0,0)][:]      = self.M\n",
    "        c[('f',0)][...,0]     = self.B[0]*c[('u',0)]\n",
    "        c[('f',0)][...,1]     = self.B[1]*c[('u',0)]\n",
    "        c[('df',0,0)][...,0]  = self.B[0]\n",
    "        c[('df',0,0)][...,1]  = self.B[1]\n",
    "        c[('a',0,0)][...,0] = self.A[0][0]\n",
    "        c[('a',0,0)][...,1] = self.A[0][1]\n",
    "        c[('a',0,0)][...,2] = self.A[1][0]\n",
    "        c[('a',0,0)][...,3] = self.A[1][1]\n",
    "        c[('r',0)][:]         = self.C*c[('u',0)]  \n",
    "        c[('dr',0,0)][:]      = self.C\n"
   ]
  },
  {
   "cell_type": "markdown",
   "metadata": {
    "slideshow": {
     "slide_type": "slide"
    }
   },
   "source": [
    "# Physics"
   ]
  },
  {
   "cell_type": "code",
   "execution_count": 3,
   "metadata": {
    "slideshow": {
     "slide_type": "fragment"
    }
   },
   "outputs": [],
   "source": [
    "from proteus import default_p as p\n",
    "#physics\n",
    "p.name = \"ladr_2d\"\n",
    "p.nd = 2; #Two dimensions\n",
    "p.L=(1.0,1.0); \n",
    "p.T=1.0\n",
    "\n",
    "p.coefficients=LADR(M=1.0,\n",
    "                    A=[[1.001,0.0],\n",
    "                       [0.0,1.001]],\n",
    "                    B=[0.0,0.0],\n",
    "                    C=0.0)\n",
    "\n",
    "def getDBC(x,flag):\n",
    "    if x[0] == 0.0 or x[1] == 0.0:\n",
    "        return lambda x,t: 1.0\n",
    "    elif x[0] == p.L[0] or x[1] == p.L[1]:\n",
    "        return lambda x,t: 0.0\n",
    "    else:\n",
    "        return None\n",
    "    \n",
    "p.dirichletConditions = {0:getDBC}\n",
    "p.advectiveFluxBoundaryConditions = {}\n",
    "p.diffusiveFluxBoundaryConditions = {0:{}}\n",
    "p.periodicDirichletConditions = None\n",
    "class IC:\n",
    "    def __init__(self):\n",
    "        pass\n",
    "    def uOfXT(self,x,t):\n",
    "        if x[0] <= 0.0 or x[1] <= 0.0:\n",
    "            return 1.0\n",
    "        else:\n",
    "            return 0.0\n",
    "\n",
    "p.initialConditions  = {0:IC()}"
   ]
  },
  {
   "cell_type": "markdown",
   "metadata": {
    "slideshow": {
     "slide_type": "slide"
    }
   },
   "source": [
    "# Numerics"
   ]
  },
  {
   "cell_type": "code",
   "execution_count": 4,
   "metadata": {
    "slideshow": {
     "slide_type": "fragment"
    }
   },
   "outputs": [],
   "source": [
    "from proteus import default_n as n\n",
    "import proteus as pr\n",
    "n.timeIntegration = pr.TimeIntegration.BackwardEuler_cfl\n",
    "n.stepController = pr.StepControl.Min_dt_cfl_controller\n",
    "n.runCFL=1.0\n",
    "n.femSpaces = {0:pr.FemTools.C0_AffineLinearOnSimplexWithNodalBasis}\n",
    "n.elementQuadrature = pr.Quadrature.SimplexGaussQuadrature(p.nd,3)\n",
    "n.elementBoundaryQuadrature = pr.Quadrature.SimplexGaussQuadrature(p.nd-1,3)\n",
    "n.subgridError = pr.SubgridError.AdvectionDiffusionReaction_ASGS(p.coefficients,\n",
    "                                                                 p.nd,lag=False)\n",
    "n.shockCapturing = pr.ShockCapturing.ResGradQuad_SC(p.coefficients,\n",
    "                                                    p.nd,\n",
    "                                                    shockCapturingFactor=0.99,\n",
    "                                                    lag=True)\n",
    "n.numericalFluxType = pr.NumericalFlux.Advection_DiagonalUpwind_Diffusion_SIPG_exterior\n",
    "n.nnx=41; n.nny=41\n",
    "n.tnList=[float(i)/40.0 for i in range(11)]\n",
    "n.matrix = pr.LinearAlgebraTools.SparseMatrix\n",
    "n.multilevelLinearSolver = pr.LinearSolvers.KSP_petsc4py\n",
    "n.l_atol_res = 1.0e-8\n",
    "n.parallelPartitioningType = pr.MeshTools.MeshParallelPartitioningTypes.element\n",
    "n.nLayersOfOverlapForParallel = 1\n",
    "n.periodicDirichletConditions = None"
   ]
  },
  {
   "cell_type": "markdown",
   "metadata": {
    "slideshow": {
     "slide_type": "slide"
    }
   },
   "source": [
    "# Operator Splitting"
   ]
  },
  {
   "cell_type": "code",
   "execution_count": 5,
   "metadata": {
    "slideshow": {
     "slide_type": "fragment"
    }
   },
   "outputs": [],
   "source": [
    "from proteus import default_s,default_so\n",
    "so = default_so\n",
    "so.name = p.name \n",
    "so.sList=[default_s]\n",
    "so.tnList = n.tnList\n",
    "#so.systemStepControllerType = SplitOperator.Sequential_FixedStep\n",
    "so.systemStepControllerType = SplitOperator.Sequential_FixedStep_Simple\n",
    "so.systemStepExact= False\n",
    "so.dt_system_fixed= 0.01"
   ]
  },
  {
   "cell_type": "markdown",
   "metadata": {
    "slideshow": {
     "slide_type": "slide"
    }
   },
   "source": [
    "# Initialize Numerical Solution Object"
   ]
  },
  {
   "cell_type": "code",
   "execution_count": 6,
   "metadata": {
    "slideshow": {
     "slide_type": "fragment"
    }
   },
   "outputs": [],
   "source": [
    "ns = NumericalSolution.NS_base(so,[p],[n],so.sList,opts)"
   ]
  },
  {
   "cell_type": "markdown",
   "metadata": {
    "slideshow": {
     "slide_type": "slide"
    }
   },
   "source": [
    "# Calculate Solution"
   ]
  },
  {
   "cell_type": "code",
   "execution_count": 7,
   "metadata": {
    "slideshow": {
     "slide_type": "fragment"
    }
   },
   "outputs": [],
   "source": [
    "failed = ns.calculateSolution('ladr_run1')\n",
    "assert(not failed)"
   ]
  },
  {
   "cell_type": "code",
   "execution_count": 8,
   "metadata": {
    "slideshow": {
     "slide_type": "slide"
    }
   },
   "outputs": [
    {
     "data": {
      "image/png": "[encoded data removed]",
      "text/plain": [
       "<Figure size 432x288 with 1 Axes>"
      ]
     },
     "metadata": {
      "needs_background": "light"
     },
     "output_type": "display_data"
    }
   ],
   "source": [
    "import pylab\n",
    "x = ns.modelList[0].levelModelList[-1].mesh.nodeArray[:,0]\n",
    "y = ns.modelList[0].levelModelList[-1].mesh.nodeArray[:,1]\n",
    "triangles = ns.modelList[0].levelModelList[-1].mesh.elementNodesArray\n",
    "u = ns.modelList[0].levelModelList[-1].u[0].dof\n",
    "pylab.set_cmap('plasma')\n",
    "pylab.tricontourf(x,y,triangles,u)\n",
    "pylab.show()"
   ]
  },
  {
   "cell_type": "markdown",
   "metadata": {},
   "source": [
    "You can view the log like this:"
   ]
  },
  {
   "cell_type": "code",
   "execution_count": 9,
   "metadata": {},
   "outputs": [
    {
     "name": "stdout",
     "output_type": "stream",
     "text": [
      "[       0] Initializing NumericalSolution for ladr_2d\r\n",
      " System includes: \r\n",
      "ladr_2d\r\n",
      "\r\n",
      "[       0] Setting Archiver(s)\r\n",
      "[       0] Setting up MultilevelMesh\r\n",
      "[       0] Building one multilevel mesh for all models\r\n",
      "[       0] Generating mesh for ladr_2d\r\n",
      "[       0] Building 41 x 41 rectangular mesh for ladr_2d\r\n",
      "[       0] Partitioning mesh among 1 processors using partitioningType = 0\r\n",
      "[       0] Number of Subdomain Elements Owned= 3200\r\n",
      "[       0] Number of Subdomain Elements = 3200\r\n",
      "[       0] Number of Subdomain Nodes Owned= 1681\r\n",
      "[       0] Number of Subdomain Nodes = 1681\r\n",
      "[       0] Number of Subdomain elementBoundaries Owned= 4880\r\n",
      "[       0] Number of Subdomain elementBoundaries = 4880\r\n",
      "[       0] Number of Subdomain Edges Owned= 4880\r\n",
      "[       0] Number of Subdomain Edges = 4880\r\n",
      "[       0] Finished partitioning\r\n",
      "[       0] *** Global ***\r\n",
      "Number of triangles  : 3200\r\n",
      "Number of edges : 4880\r\n",
      "Number of nodes : 1681\r\n",
      "\r\n",
      "*** Local ***\r\n",
      "Number of triangles  : 3200\r\n",
      "Number of edges : 4880\r\n",
      "Number of nodes : 1681\r\n",
      "\r\n",
      "[       0] Numerical Solution Sparse diffusion information key (0, 0) = (array([0, 2, 4], dtype=int32), array([0, 1, 0, 1], dtype=int32))\r\n",
      "[       0] Setting up MultilevelTransport for ladr_2d\r\n",
      "[       0] Building Transport for each mesh\r\n",
      "[       0] Generating Trial Space\r\n",
      "[       0] Generating Test Space\r\n",
      "[       0] Allocating u\r\n",
      "[       0] Allocating phi\r\n",
      "[       0] Setting Boundary Conditions\r\n",
      "[       0] Setting Boundary Conditions-1\r\n",
      "[       0] Setting Boundary Conditions-2\r\n",
      "[       0] Setting Boundary Conditions-2a\r\n",
      "[       0] Setting Boundary Conditions-3\r\n",
      "[       0] Setting Boundary Conditions-4\r\n",
      "[       0] Initializing OneLevelTransport\r\n",
      "[       0] Sparse diffusion information key (0, 0) = (array([0, 2, 4], dtype=int32), array([0, 1, 0, 1], dtype=int32))\r\n",
      "[       0] Shallow copy of trial shape is being used for test shape w \r\n",
      "[       0] Shallow copy of trial shape is being used for test shape grad(w) \r\n",
      "[       0] Shallow copy of trial shape is being used for test shape Hess(w) \r\n",
      "[       0] Shallow copy of trial shape is being used for test shape w \r\n",
      "[       0] Updating local to global mappings\r\n",
      "[       0] Building time integration object\r\n",
      "[       0] Calculating numerical quadrature formulas\r\n",
      "[       0] Element Quadrature\r\n",
      "[       0] Element Boundary Quadrature\r\n",
      "[       0] Global Exterior Element Boundary Quadrature\r\n",
      "[       0] Allocating residual and solution vectors\r\n",
      "[       0] Allocating Jacobian\r\n",
      "[       0] Building sparse matrix structure\r\n",
      "[       0] Allocating parallel storage\r\n",
      "[       0] Allocating ghosted parallel vectors on rank 0\r\n",
      "[       0] Allocating un-ghosted parallel vectors on rank 0\r\n",
      "[       0] Allocating matrix on rank 0\r\n",
      "[       0] ParMat_petsc4py comm.rank= 0 blockSize = 1 par_n= 1681 par_N=1681 par_nghost=0 par_jacobian.getSizes()= ((1681, 1681), (1681, 1681)) \r\n",
      "[       0] Building Mesh Transfers\r\n",
      "[       0] Setting ladr_2d stepController to <class 'proteus.StepControl.Min_dt_cfl_controller'>\r\n",
      "[       0] Setting up MultilevelLinearSolver forladr_2d\r\n",
      "[       0] multilevelLinearSolverChooser type= <class 'proteus.LinearSolvers.KSP_petsc4py'>\r\n",
      "[       0] KSP atol 1.000000e-08 rtol 1.000000e-03\r\n",
      "[       0] Setting up MultilevelNonLinearSolver for ladr_2d\r\n",
      "[       0] Finished setting up models and solvers\r\n",
      "[       0] Setting up SimTools for ladr_2d\r\n",
      "[       0] Using tnList from so = ladr_2d\r\n",
      "[       0] Time sequence[0.0, 0.025, 0.05, 0.075, 0.1, 0.125, 0.15, 0.175, 0.2, 0.225, 0.25]\r\n",
      "[       0] NAHeader Num Time Steps 10\r\n",
      "[       0] Setting ladr_2d systemStepController to object of type <class 'proteus.SplitOperator.Sequential_tnList'>\r\n",
      "[       0] Finished NumericalSolution initialization\r\n",
      "[       0] Setting initial conditions\r\n",
      "[       0] Setting initial conditions for ladr_2d\r\n",
      "[       0] Setting initial conditions on model ladr_2d\r\n",
      "[       0] Attaching models and running spin-up step if requested\r\n",
      "[       0] Attaching models to model ladr_2d\r\n",
      "[       0] Attaching models to model ladr_2d\r\n",
      "[       0] Archiving initial conditions\r\n",
      "[       0] Writing initial mesh for  model = ladr_2d\r\n",
      "[       0] Writing initial conditions for  model = ladr_2d\r\n",
      "[       0] Syncing Archive\r\n",
      "[       0] Gathering Archive Time step\r\n",
      "[       0] Done Gathering Archive Time Step\r\n",
      "[       0] Done Syncing Archive\r\n",
      "[       0] Estimating initial time derivative and initializing time history for model ladr_2d\r\n",
      "[       0] Choosing initial time step for model ladr_2d\r\n",
      "[       0] Initializing time step on model ladr_2d to dt =  2.62213e-05\r\n",
      "[       0] Initializing time history for model step controller\r\n",
      "[       0] Initializing time step on system Default System to dt =  2.50000e-02\r\n",
      "[       0] Initializing step sequence  for system Default System to [(0.025, <proteus.Transport.MultilevelTransport object at 0x55933ff235b8>)]\r\n",
      "[       0] Auxiliary variable calculations for model ladr_2d\r\n",
      "[       0] Starting time stepping\r\n",
      "[       0] ==============================================================\r\n",
      "[       0] Solving over interval [ 0.00000e+00, 2.50000e-02]\r\n",
      "[       0] ==============================================================\r\n",
      "[       0] System time step t= 2.50000e-02, dt= 2.50000e-02\r\n",
      "[       0] saving previous velocity dofs 0\r\n",
      "[       0] Split operator iteration 0\r\n",
      "[       0] NumericalAnalytics Model ladr_2d \r\n",
      "[       0] Model: ladr_2d\r\n",
      "[       0] Fractional step  2.50000e-02 for model ladr_2d\r\n",
      "[       0] Step exact called for model ladr_2d\r\n",
      "[       0] StepControl base stepExact t_model= 0.025 tOut= 0.025 t_model_last= 0.0 dt_model= 0.025 setting to 0.025 \r\n",
      "[       0] Min_dt_controller setSubsteps tList=[0.025] self.t_model=0.025 self.substeps= [0.025] \r\n",
      "[       0] Model step t= 2.50000e-02, dt= 2.50000e-02 for model ladr_2d\r\n",
      "[       0] Model substep t= 2.50000e-02 for model ladr_2d\r\n",
      "[       0] Model substep t= 2.50000e-02 for model ladr_2d model.timeIntegration.t=  2.50000e-02\r\n",
      "[       0]    Newton it 0 norm(r) =  1.00234e+01  \t\t norm(r)/(rtol*norm(r0)+atol) = 9.11028 test=r\r\n",
      "[       0] before ksp.rtol= 0.001 ksp.atol= 1e-08 ksp.converged= False ksp.its= 0 ksp.norm= 0.0 \r\n",
      "[       0] after ksp.rtol= 0.001 ksp.atol= 1e-08 ksp.converged= True ksp.its= 14 ksp.norm= 0.005013986356279202 reason = 2\r\n",
      "[       0]    Newton it 1 norm(r) =  5.52199e-03  \t\t norm(r)/(rtol*norm(r0)+atol) =  5.01892e-03\r\n",
      "[       0] SO_base modelStepTaken for model= ladr_2d t_system_last= 0.0 t_model_last= 0.0  setting to t_stepSequence= 0.025 \r\n",
      "[       0] Step Taken, t_stepSequence= 0.025 Model step t= 2.50000e-02, dt= 2.50000e-02 for model ladr_2d\r\n",
      "[       0] Step Taken, Model step t= 2.50000e-02, dt= 2.50000e-02 for model ladr_2d\r\n",
      "[       0] Min_dt_controller setSubsteps tList=[0.02502622131153633] self.t_model=0.02502622131153633 self.substeps= [0.02502622131153633] \r\n",
      "[       0] Step Taken, System time step t= 2.50000e-02, dt= 2.50000e-02\r\n",
      "[       0] Potential System time step t= 5.00000e-02, dt= 2.50000e-02 for next step\r\n",
      "[       0] Writing mesh header for  model = ladr_2d at time t=0.025\r\n",
      "[       0] Writing solution for  model = ladr_2d\r\n",
      "[       0] Syncing Archive\r\n",
      "[       0] Gathering Archive Time step\r\n",
      "[       0] Done Gathering Archive Time Step\r\n",
      "[       0] Done Syncing Archive\r\n",
      "[       0] ==============================================================\r\n",
      "[       0] Solving over interval [ 2.50000e-02, 5.00000e-02]\r\n",
      "[       0] ==============================================================\r\n",
      "[       0] System time step t= 5.00000e-02, dt= 2.50000e-02\r\n",
      "[       0] saving previous velocity dofs 1\r\n",
      "[       0] Split operator iteration 0\r\n",
      "[       0] NumericalAnalytics Model ladr_2d \r\n",
      "[       0] Model: ladr_2d\r\n",
      "[       0] Fractional step  5.00000e-02 for model ladr_2d\r\n",
      "[       0] Step exact called for model ladr_2d\r\n",
      "[       0] StepControl base stepExact t_model= 0.05 tOut= 0.05 t_model_last= 0.025 dt_model= 0.025 setting to 0.025 \r\n",
      "[       0] Min_dt_controller setSubsteps tList=[0.05] self.t_model=0.05 self.substeps= [0.05] \r\n",
      "[       0] Model step t= 5.00000e-02, dt= 2.50000e-02 for model ladr_2d\r\n",
      "[       0] Model substep t= 5.00000e-02 for model ladr_2d\r\n",
      "[       0] Model substep t= 5.00000e-02 for model ladr_2d model.timeIntegration.t=  5.00000e-02\r\n",
      "[       0]    Newton it 0 norm(r) =  3.47099e-01  \t\t norm(r)/(rtol*norm(r0)+atol) = 0.345899 test=r\r\n",
      "[       1] before ksp.rtol= 0.001 ksp.atol= 1e-08 ksp.converged= False ksp.its= 14 ksp.norm= 0.005013986356279202 \r\n",
      "[       1] after ksp.rtol= 0.001 ksp.atol= 1e-08 ksp.converged= True ksp.its= 15 ksp.norm= 0.00039653525826898817 reason = 2\r\n",
      "[       1]    Newton it 1 norm(r) =  6.86003e-04  \t\t norm(r)/(rtol*norm(r0)+atol) =  6.83631e-04\r\n",
      "[       1] SO_base modelStepTaken for model= ladr_2d t_system_last= 0.025 t_model_last= 0.025  setting to t_stepSequence= 0.05 \r\n",
      "[       1] Step Taken, t_stepSequence= 0.05 Model step t= 5.00000e-02, dt= 2.50000e-02 for model ladr_2d\r\n",
      "[       1] Step Taken, Model step t= 5.00000e-02, dt= 2.50000e-02 for model ladr_2d\r\n",
      "[       1] Min_dt_controller setSubsteps tList=[0.05002622131153633] self.t_model=0.05002622131153633 self.substeps= [0.05002622131153633] \r\n",
      "[       1] Step Taken, System time step t= 5.00000e-02, dt= 2.50000e-02\r\n",
      "[       1] Potential System time step t= 7.50000e-02, dt= 2.50000e-02 for next step\r\n",
      "[       1] Writing mesh header for  model = ladr_2d at time t=0.05\r\n",
      "[       1] Writing solution for  model = ladr_2d\r\n",
      "[       1] Syncing Archive\r\n",
      "[       1] Gathering Archive Time step\r\n",
      "[       1] Done Gathering Archive Time Step\r\n",
      "[       1] Done Syncing Archive\r\n",
      "[       1] ==============================================================\r\n",
      "[       1] Solving over interval [ 5.00000e-02, 7.50000e-02]\r\n",
      "[       1] ==============================================================\r\n",
      "[       1] System time step t= 7.50000e-02, dt= 2.50000e-02\r\n",
      "[       1] saving previous velocity dofs 2\r\n",
      "[       1] Split operator iteration 0\r\n",
      "[       1] NumericalAnalytics Model ladr_2d \r\n",
      "[       1] Model: ladr_2d\r\n",
      "[       1] Fractional step  7.50000e-02 for model ladr_2d\r\n",
      "[       1] Step exact called for model ladr_2d\r\n",
      "[       1] StepControl base stepExact t_model= 0.07500000000000001 tOut= 0.07500000000000001 t_model_last= 0.05 dt_model= 0.025 setting to 0.02500000000000001 \r\n",
      "[       1] Min_dt_controller setSubsteps tList=[0.07500000000000001] self.t_model=0.07500000000000001 self.substeps= [0.07500000000000001] \r\n",
      "[       1] Model step t= 7.50000e-02, dt= 2.50000e-02 for model ladr_2d\r\n",
      "[       1] Model substep t= 7.50000e-02 for model ladr_2d\r\n",
      "[       1] Model substep t= 7.50000e-02 for model ladr_2d model.timeIntegration.t=  7.50000e-02\r\n",
      "[       1]    Newton it 0 norm(r) =  1.21890e-01  \t\t norm(r)/(rtol*norm(r0)+atol) = 0.121741 test=r\r\n",
      "[       1] before ksp.rtol= 0.001 ksp.atol= 1e-08 ksp.converged= False ksp.its= 15 ksp.norm= 0.00039653525826898817 \r\n",
      "[       1] after ksp.rtol= 0.001 ksp.atol= 1e-08 ksp.converged= True ksp.its= 14 ksp.norm= 0.00013456362753090526 reason = 2\r\n",
      "[       1]    Newton it 1 norm(r) =  1.79149e-04  \t\t norm(r)/(rtol*norm(r0)+atol) =  1.78930e-04\r\n",
      "[       1] SO_base modelStepTaken for model= ladr_2d t_system_last= 0.05 t_model_last= 0.05  setting to t_stepSequence= 0.07500000000000001 \r\n",
      "[       1] Step Taken, t_stepSequence= 0.07500000000000001 Model step t= 7.50000e-02, dt= 2.50000e-02 for model ladr_2d\r\n",
      "[       1] Step Taken, Model step t= 7.50000e-02, dt= 2.50000e-02 for model ladr_2d\r\n",
      "[       1] Min_dt_controller setSubsteps tList=[0.07502622131153634] self.t_model=0.07502622131153634 self.substeps= [0.07502622131153634] \r\n",
      "[       1] Step Taken, System time step t= 7.50000e-02, dt= 2.50000e-02\r\n",
      "[       1] Potential System time step t= 1.00000e-01, dt= 2.50000e-02 for next step\r\n",
      "[       1] Writing mesh header for  model = ladr_2d at time t=0.07500000000000001\r\n",
      "[       1] Writing solution for  model = ladr_2d\r\n",
      "[       1] Syncing Archive\r\n",
      "[       1] Gathering Archive Time step\r\n",
      "[       1] Done Gathering Archive Time Step\r\n",
      "[       1] Done Syncing Archive\r\n",
      "[       1] ==============================================================\r\n",
      "[       1] Solving over interval [ 7.50000e-02, 1.00000e-01]\r\n",
      "[       1] ==============================================================\r\n",
      "[       1] System time step t= 1.00000e-01, dt= 2.50000e-02\r\n",
      "[       1] saving previous velocity dofs 3\r\n",
      "[       1] Split operator iteration 0\r\n",
      "[       1] NumericalAnalytics Model ladr_2d \r\n",
      "[       1] Model: ladr_2d\r\n",
      "[       1] Fractional step  1.00000e-01 for model ladr_2d\r\n",
      "[       1] Step exact called for model ladr_2d\r\n",
      "[       1] StepControl base stepExact t_model= 0.1 tOut= 0.1 t_model_last= 0.07500000000000001 dt_model= 0.025 setting to 0.024999999999999994 \r\n",
      "[       1] Min_dt_controller setSubsteps tList=[0.1] self.t_model=0.1 self.substeps= [0.1] \r\n",
      "[       1] Model step t= 1.00000e-01, dt= 2.50000e-02 for model ladr_2d\r\n",
      "[       1] Model substep t= 1.00000e-01 for model ladr_2d\r\n",
      "[       1] Model substep t= 1.00000e-01 for model ladr_2d model.timeIntegration.t=  1.00000e-01\r\n",
      "[       1]    Newton it 0 norm(r) =  6.39774e-02  \t\t norm(r)/(rtol*norm(r0)+atol) = 0.0639364 test=r\r\n",
      "[       1] before ksp.rtol= 0.001 ksp.atol= 1e-08 ksp.converged= False ksp.its= 14 ksp.norm= 0.00013456362753090526 \r\n",
      "[       1] after ksp.rtol= 0.001 ksp.atol= 1e-08 ksp.converged= True ksp.its= 13 ksp.norm= 7.014804984586822e-05 reason = 2\r\n",
      "[       1]    Newton it 1 norm(r) =  1.02186e-04  \t\t norm(r)/(rtol*norm(r0)+atol) =  1.02121e-04\r\n",
      "[       1] SO_base modelStepTaken for model= ladr_2d t_system_last= 0.07500000000000001 t_model_last= 0.07500000000000001  setting to t_stepSequence= 0.1 \r\n",
      "[       1] Step Taken, t_stepSequence= 0.1 Model step t= 1.00000e-01, dt= 2.50000e-02 for model ladr_2d\r\n",
      "[       1] Step Taken, Model step t= 1.00000e-01, dt= 2.50000e-02 for model ladr_2d\r\n",
      "[       1] Min_dt_controller setSubsteps tList=[0.10002622131153634] self.t_model=0.10002622131153634 self.substeps= [0.10002622131153634] \r\n",
      "[       1] Step Taken, System time step t= 1.00000e-01, dt= 2.50000e-02\r\n",
      "[       1] Potential System time step t= 1.25000e-01, dt= 2.50000e-02 for next step\r\n",
      "[       1] Writing mesh header for  model = ladr_2d at time t=0.1\r\n",
      "[       1] Writing solution for  model = ladr_2d\r\n",
      "[       1] Syncing Archive\r\n",
      "[       1] Gathering Archive Time step\r\n",
      "[       1] Done Gathering Archive Time Step\r\n",
      "[       1] Done Syncing Archive\r\n",
      "[       1] ==============================================================\r\n",
      "[       1] Solving over interval [ 1.00000e-01, 1.25000e-01]\r\n",
      "[       1] ==============================================================\r\n",
      "[       1] System time step t= 1.25000e-01, dt= 2.50000e-02\r\n",
      "[       1] saving previous velocity dofs 4\r\n",
      "[       1] Split operator iteration 0\r\n",
      "[       1] NumericalAnalytics Model ladr_2d \r\n",
      "[       1] Model: ladr_2d\r\n",
      "[       1] Fractional step  1.25000e-01 for model ladr_2d\r\n",
      "[       1] Step exact called for model ladr_2d\r\n",
      "[       1] StepControl base stepExact t_model= 0.125 tOut= 0.125 t_model_last= 0.1 dt_model= 0.025 setting to 0.024999999999999994 \r\n",
      "[       1] Min_dt_controller setSubsteps tList=[0.125] self.t_model=0.125 self.substeps= [0.125] \r\n",
      "[       1] Model step t= 1.25000e-01, dt= 2.50000e-02 for model ladr_2d\r\n",
      "[       1] Model substep t= 1.25000e-01 for model ladr_2d\r\n",
      "[       1] Model substep t= 1.25000e-01 for model ladr_2d model.timeIntegration.t=  1.25000e-01\r\n",
      "[       1]    Newton it 0 norm(r) =  3.98150e-02  \t\t norm(r)/(rtol*norm(r0)+atol) = 0.0397991 test=r\r\n",
      "[       1] before ksp.rtol= 0.001 ksp.atol= 1e-08 ksp.converged= False ksp.its= 13 ksp.norm= 7.014804984586822e-05 \r\n",
      "[       1] after ksp.rtol= 0.001 ksp.atol= 1e-08 ksp.converged= True ksp.its= 12 ksp.norm= 4.2137424069166854e-05 reason = 2\r\n",
      "[       1]    Newton it 1 norm(r) =  7.20332e-05  \t\t norm(r)/(rtol*norm(r0)+atol) =  7.20046e-05\r\n",
      "[       1] SO_base modelStepTaken for model= ladr_2d t_system_last= 0.1 t_model_last= 0.1  setting to t_stepSequence= 0.125 \r\n",
      "[       1] Step Taken, t_stepSequence= 0.125 Model step t= 1.25000e-01, dt= 2.50000e-02 for model ladr_2d\r\n",
      "[       1] Step Taken, Model step t= 1.25000e-01, dt= 2.50000e-02 for model ladr_2d\r\n",
      "[       1] Min_dt_controller setSubsteps tList=[0.12502622131153632] self.t_model=0.12502622131153632 self.substeps= [0.12502622131153632] \r\n",
      "[       1] Step Taken, System time step t= 1.25000e-01, dt= 2.50000e-02\r\n",
      "[       1] Potential System time step t= 1.50000e-01, dt= 2.50000e-02 for next step\r\n",
      "[       1] Writing mesh header for  model = ladr_2d at time t=0.125\r\n",
      "[       1] Writing solution for  model = ladr_2d\r\n",
      "[       1] Syncing Archive\r\n",
      "[       1] Gathering Archive Time step\r\n",
      "[       1] Done Gathering Archive Time Step\r\n",
      "[       1] Done Syncing Archive\r\n",
      "[       1] ==============================================================\r\n",
      "[       1] Solving over interval [ 1.25000e-01, 1.50000e-01]\r\n",
      "[       1] ==============================================================\r\n",
      "[       1] System time step t= 1.50000e-01, dt= 2.50000e-02\r\n",
      "[       1] saving previous velocity dofs 5\r\n",
      "[       1] Split operator iteration 0\r\n",
      "[       1] NumericalAnalytics Model ladr_2d \r\n",
      "[       1] Model: ladr_2d\r\n",
      "[       1] Fractional step  1.50000e-01 for model ladr_2d\r\n",
      "[       1] Step exact called for model ladr_2d\r\n",
      "[       1] StepControl base stepExact t_model= 0.15 tOut= 0.15 t_model_last= 0.125 dt_model= 0.025 setting to 0.024999999999999994 \r\n",
      "[       1] Min_dt_controller setSubsteps tList=[0.15] self.t_model=0.15 self.substeps= [0.15] \r\n",
      "[       1] Model step t= 1.50000e-01, dt= 2.50000e-02 for model ladr_2d\r\n",
      "[       1] Model substep t= 1.50000e-01 for model ladr_2d\r\n",
      "[       1] Model substep t= 1.50000e-01 for model ladr_2d model.timeIntegration.t=  1.50000e-01\r\n",
      "[       1]    Newton it 0 norm(r) =  2.57474e-02  \t\t norm(r)/(rtol*norm(r0)+atol) = 0.0257407 test=r\r\n",
      "[       1] before ksp.rtol= 0.001 ksp.atol= 1e-08 ksp.converged= False ksp.its= 12 ksp.norm= 4.2137424069166854e-05 \r\n",
      "[       1] after ksp.rtol= 0.001 ksp.atol= 1e-08 ksp.converged= True ksp.its= 11 ksp.norm= 4.08714124550043e-05 reason = 2\r\n",
      "[       1]    Newton it 1 norm(r) =  4.82981e-05  \t\t norm(r)/(rtol*norm(r0)+atol) =  4.82856e-05\r\n",
      "[       1] SO_base modelStepTaken for model= ladr_2d t_system_last= 0.125 t_model_last= 0.125  setting to t_stepSequence= 0.15 \r\n",
      "[       1] Step Taken, t_stepSequence= 0.15 Model step t= 1.50000e-01, dt= 2.50000e-02 for model ladr_2d\r\n",
      "[       1] Step Taken, Model step t= 1.50000e-01, dt= 2.50000e-02 for model ladr_2d\r\n",
      "[       1] Min_dt_controller setSubsteps tList=[0.1500262213115363] self.t_model=0.1500262213115363 self.substeps= [0.1500262213115363] \r\n",
      "[       1] Step Taken, System time step t= 1.50000e-01, dt= 2.50000e-02\r\n",
      "[       1] Potential System time step t= 1.75000e-01, dt= 2.50000e-02 for next step\r\n",
      "[       1] Writing mesh header for  model = ladr_2d at time t=0.15\r\n",
      "[       1] Writing solution for  model = ladr_2d\r\n",
      "[       1] Syncing Archive\r\n",
      "[       1] Gathering Archive Time step\r\n",
      "[       1] Done Gathering Archive Time Step\r\n",
      "[       1] Done Syncing Archive\r\n",
      "[       1] ==============================================================\r\n",
      "[       1] Solving over interval [ 1.50000e-01, 1.75000e-01]\r\n",
      "[       1] ==============================================================\r\n",
      "[       1] System time step t= 1.75000e-01, dt= 2.50000e-02\r\n",
      "[       1] saving previous velocity dofs 6\r\n",
      "[       1] Split operator iteration 0\r\n",
      "[       1] NumericalAnalytics Model ladr_2d \r\n",
      "[       1] Model: ladr_2d\r\n",
      "[       1] Fractional step  1.75000e-01 for model ladr_2d\r\n",
      "[       1] Step exact called for model ladr_2d\r\n",
      "[       1] StepControl base stepExact t_model= 0.175 tOut= 0.175 t_model_last= 0.15 dt_model= 0.025 setting to 0.024999999999999994 \r\n",
      "[       1] Min_dt_controller setSubsteps tList=[0.175] self.t_model=0.175 self.substeps= [0.175] \r\n",
      "[       1] Model step t= 1.75000e-01, dt= 2.50000e-02 for model ladr_2d\r\n",
      "[       1] Model substep t= 1.75000e-01 for model ladr_2d\r\n",
      "[       1] Model substep t= 1.75000e-01 for model ladr_2d model.timeIntegration.t=  1.75000e-01\r\n",
      "[       1]    Newton it 0 norm(r) =  1.69145e-02  \t\t norm(r)/(rtol*norm(r0)+atol) = 0.0169117 test=r\r\n",
      "[       1] before ksp.rtol= 0.001 ksp.atol= 1e-08 ksp.converged= False ksp.its= 11 ksp.norm= 4.08714124550043e-05 \r\n",
      "[       1] after ksp.rtol= 0.001 ksp.atol= 1e-08 ksp.converged= True ksp.its= 11 ksp.norm= 1.9538346448420697e-05 reason = 2\r\n",
      "[       1]    Newton it 1 norm(r) =  2.17242e-05  \t\t norm(r)/(rtol*norm(r0)+atol) =  2.17205e-05\r\n",
      "[       1] SO_base modelStepTaken for model= ladr_2d t_system_last= 0.15 t_model_last= 0.15  setting to t_stepSequence= 0.175 \r\n",
      "[       1] Step Taken, t_stepSequence= 0.175 Model step t= 1.75000e-01, dt= 2.50000e-02 for model ladr_2d\r\n",
      "[       1] Step Taken, Model step t= 1.75000e-01, dt= 2.50000e-02 for model ladr_2d\r\n",
      "[       1] Min_dt_controller setSubsteps tList=[0.1750262213115363] self.t_model=0.1750262213115363 self.substeps= [0.1750262213115363] \r\n",
      "[       1] Step Taken, System time step t= 1.75000e-01, dt= 2.50000e-02\r\n",
      "[       1] Potential System time step t= 2.00000e-01, dt= 2.50000e-02 for next step\r\n",
      "[       1] Writing mesh header for  model = ladr_2d at time t=0.175\r\n",
      "[       1] Writing solution for  model = ladr_2d\r\n",
      "[       1] Syncing Archive\r\n",
      "[       1] Gathering Archive Time step\r\n",
      "[       1] Done Gathering Archive Time Step\r\n",
      "[       1] Done Syncing Archive\r\n",
      "[       1] ==============================================================\r\n",
      "[       1] Solving over interval [ 1.75000e-01, 2.00000e-01]\r\n",
      "[       1] ==============================================================\r\n",
      "[       1] System time step t= 2.00000e-01, dt= 2.50000e-02\r\n",
      "[       1] saving previous velocity dofs 7\r\n",
      "[       1] Split operator iteration 0\r\n",
      "[       1] NumericalAnalytics Model ladr_2d \r\n",
      "[       1] Model: ladr_2d\r\n",
      "[       1] Fractional step  2.00000e-01 for model ladr_2d\r\n",
      "[       1] Step exact called for model ladr_2d\r\n",
      "[       1] StepControl base stepExact t_model= 0.19999999999999998 tOut= 0.19999999999999998 t_model_last= 0.175 dt_model= 0.025 setting to 0.024999999999999994 \r\n",
      "[       1] Min_dt_controller setSubsteps tList=[0.19999999999999998] self.t_model=0.19999999999999998 self.substeps= [0.19999999999999998] \r\n",
      "[       1] Model step t= 2.00000e-01, dt= 2.50000e-02 for model ladr_2d\r\n",
      "[       1] Model substep t= 2.00000e-01 for model ladr_2d\r\n",
      "[       1] Model substep t= 2.00000e-01 for model ladr_2d model.timeIntegration.t=  2.00000e-01\r\n",
      "[       1]    Newton it 0 norm(r) =  1.11961e-02  \t\t norm(r)/(rtol*norm(r0)+atol) = 0.0111949 test=r\r\n",
      "[       1] before ksp.rtol= 0.001 ksp.atol= 1e-08 ksp.converged= False ksp.its= 11 ksp.norm= 1.9538346448420697e-05 \r\n",
      "[       1] after ksp.rtol= 0.001 ksp.atol= 1e-08 ksp.converged= True ksp.its= 10 ksp.norm= 1.5012713522754977e-05 reason = 2\r\n",
      "[       1]    Newton it 1 norm(r) =  1.95139e-05  \t\t norm(r)/(rtol*norm(r0)+atol) =  1.95117e-05\r\n",
      "[       1] SO_base modelStepTaken for model= ladr_2d t_system_last= 0.175 t_model_last= 0.175  setting to t_stepSequence= 0.19999999999999998 \r\n",
      "[       1] Step Taken, t_stepSequence= 0.19999999999999998 Model step t= 2.00000e-01, dt= 2.50000e-02 for model ladr_2d\r\n",
      "[       1] Step Taken, Model step t= 2.00000e-01, dt= 2.50000e-02 for model ladr_2d\r\n",
      "[       1] Min_dt_controller setSubsteps tList=[0.2000262213115363] self.t_model=0.2000262213115363 self.substeps= [0.2000262213115363] \r\n",
      "[       1] Step Taken, System time step t= 2.00000e-01, dt= 2.50000e-02\r\n",
      "[       1] Potential System time step t= 2.25000e-01, dt= 2.50000e-02 for next step\r\n",
      "[       1] System time step t= 2.25000e-01, dt= 2.50000e-02\r\n",
      "[       1] saving previous velocity dofs 8\r\n",
      "[       1] Split operator iteration 0\r\n",
      "[       1] NumericalAnalytics Model ladr_2d \r\n",
      "[       1] Model: ladr_2d\r\n",
      "[       1] Fractional step  2.25000e-01 for model ladr_2d\r\n",
      "[       1] Step exact called for model ladr_2d\r\n",
      "[       1] StepControl base stepExact t_model= 0.22499999999999998 tOut= 0.22499999999999998 t_model_last= 0.19999999999999998 dt_model= 0.025 setting to 0.024999999999999994 \r\n",
      "[       1] Min_dt_controller setSubsteps tList=[0.22499999999999998] self.t_model=0.22499999999999998 self.substeps= [0.22499999999999998] \r\n",
      "[       1] Model step t= 2.25000e-01, dt= 2.50000e-02 for model ladr_2d\r\n",
      "[       1] Model substep t= 2.25000e-01 for model ladr_2d\r\n",
      "[       1] Model substep t= 2.25000e-01 for model ladr_2d model.timeIntegration.t=  2.25000e-01\r\n",
      "[       1]    Newton it 0 norm(r) =  7.44063e-03  \t\t norm(r)/(rtol*norm(r0)+atol) = 0.00744008 test=r\r\n",
      "[       1] before ksp.rtol= 0.001 ksp.atol= 1e-08 ksp.converged= False ksp.its= 10 ksp.norm= 1.5012713522754977e-05 \r\n",
      "[       1] after ksp.rtol= 0.001 ksp.atol= 1e-08 ksp.converged= True ksp.its= 10 ksp.norm= 7.605771428212987e-06 reason = 2\r\n",
      "[       1]    Newton it 1 norm(r) =  9.96118e-06  \t\t norm(r)/(rtol*norm(r0)+atol) =  9.96044e-06\r\n",
      "[       1] SO_base modelStepTaken for model= ladr_2d t_system_last= 0.19999999999999998 t_model_last= 0.19999999999999998  setting to t_stepSequence= 0.22499999999999998 \r\n",
      "[       1] Step Taken, t_stepSequence= 0.22499999999999998 Model step t= 2.25000e-01, dt= 2.50000e-02 for model ladr_2d\r\n",
      "[       1] Step Taken, Model step t= 2.25000e-01, dt= 2.50000e-02 for model ladr_2d\r\n"
     ]
    }
   ],
   "source": [
    "!cat proteus.log"
   ]
  },
  {
   "cell_type": "code",
   "execution_count": null,
   "metadata": {},
   "outputs": [],
   "source": []
  },
  {
   "cell_type": "code",
   "execution_count": null,
   "metadata": {},
   "outputs": [],
   "source": []
  },
  {
   "cell_type": "code",
   "execution_count": null,
   "metadata": {},
   "outputs": [],
   "source": []
  }
 ],
 "metadata": {
  "kernelspec": {
   "display_name": "Python 3",
   "language": "python",
   "name": "python3"
  },
  "language_info": {
   "codemirror_mode": {
    "name": "ipython",
    "version": 3
   },
   "file_extension": ".py",
   "mimetype": "text/x-python",
   "name": "python",
   "nbconvert_exporter": "python",
   "pygments_lexer": "ipython3",
   "version": "3.7.2"
  }
 },
 "nbformat": 4,
 "nbformat_minor": 2
}
